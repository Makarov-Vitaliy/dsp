{
  "metadata": {
    "language_info": {
      "codemirror_mode": {
        "name": "python",
        "version": 3
      },
      "file_extension": ".py",
      "mimetype": "text/x-python",
      "name": "python",
      "nbconvert_exporter": "python",
      "pygments_lexer": "ipython3",
      "version": "3.8"
    },
    "kernelspec": {
      "name": "python",
      "display_name": "Python (Pyodide)",
      "language": "python"
    }
  },
  "nbformat_minor": 4,
  "nbformat": 4,
  "cells": [
    {
      "cell_type": "markdown",
      "source": "Модуль передаточной функции фильтра Баттерворта описывается следующей формулой:\n\n\n$$\n|H(z)| = (1+(f/fc)^{2n}) ^{-1/2}\\,.\n$$\n\nгде n - порядок фильтра, fc - частота среза\n\n## Задание 1\nfc=3 кГц, n=1. Найти минимальную частоту дискретизации при которой искажение от наложения будет составлять:\n10%, 9%, 8%, 7%, 6%, 5%, 4%, 3%, 2%, 1%\n\nПостроить график зависимости частоты дискретизации от % искажения\n\n\n## Задание 2\nfc=3 кГц. Найти минимальную частоту дискретизации при которой искажение от наложения будет составлять: 2% , для фильтров порядка n=1, 2, 3, 4, 5.",
      "metadata": {}
    },
    {
      "cell_type": "code",
      "source": "",
      "metadata": {},
      "execution_count": null,
      "outputs": []
    }
  ]
}